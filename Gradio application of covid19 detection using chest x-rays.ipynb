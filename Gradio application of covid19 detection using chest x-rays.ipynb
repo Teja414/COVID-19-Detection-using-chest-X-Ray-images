{
 "cells": [
  {
   "cell_type": "code",
   "execution_count": 12,
   "id": "271efb78",
   "metadata": {},
   "outputs": [],
   "source": [
    "import gradio as gr\n",
    "from keras.models import load_model\n",
    "import cv2\n",
    "import numpy as np"
   ]
  },
  {
   "cell_type": "code",
   "execution_count": 2,
   "id": "85f6fda9",
   "metadata": {},
   "outputs": [],
   "source": [
    "model = load_model('covid_trained_model.h5')"
   ]
  },
  {
   "cell_type": "markdown",
   "id": "78cffdd4",
   "metadata": {},
   "source": [
    "### function for gradio application"
   ]
  },
  {
   "cell_type": "code",
   "execution_count": 7,
   "id": "c3e3c7ca",
   "metadata": {},
   "outputs": [],
   "source": [
    "def sigmoid_to_binary(output_value, threshold=0.705):\n",
    "    if output_value >= threshold:\n",
    "        return 1\n",
    "    else:\n",
    "        return 0"
   ]
  },
  {
   "cell_type": "code",
   "execution_count": 8,
   "id": "aed1e045",
   "metadata": {},
   "outputs": [],
   "source": [
    "def covid(img):\n",
    "    resized_image = cv2.resize(img, (224, 224))\n",
    "    reshaped_image = np.expand_dims(resized_image, axis=0)\n",
    "    pred = model.predict(reshaped_image)\n",
    "    binary = sigmoid_to_binary(pred[0,0])\n",
    "    if(binary == 0):\n",
    "        return \"COVID POSITIVE +\"\n",
    "    return \"COVID NEGATIVE -\"\n",
    "    "
   ]
  },
  {
   "cell_type": "code",
   "execution_count": 13,
   "id": "8c2c60e1",
   "metadata": {},
   "outputs": [
    {
     "name": "stdout",
     "output_type": "stream",
     "text": [
      "Running on local URL:  http://127.0.0.1:7862\n",
      "\n",
      "To create a public link, set `share=True` in `launch()`.\n"
     ]
    },
    {
     "data": {
      "text/html": [
       "<div><iframe src=\"http://127.0.0.1:7862/\" width=\"100%\" height=\"500\" allow=\"autoplay; camera; microphone; clipboard-read; clipboard-write;\" frameborder=\"0\" allowfullscreen></iframe></div>"
      ],
      "text/plain": [
       "<IPython.core.display.HTML object>"
      ]
     },
     "metadata": {},
     "output_type": "display_data"
    },
    {
     "data": {
      "text/plain": []
     },
     "execution_count": 13,
     "metadata": {},
     "output_type": "execute_result"
    },
    {
     "name": "stdout",
     "output_type": "stream",
     "text": [
      "1/1 [==============================] - 0s 403ms/step\n",
      "1/1 [==============================] - 0s 63ms/step\n",
      "1/1 [==============================] - 0s 57ms/step\n"
     ]
    }
   ],
   "source": [
    "gr.Interface(fn=covid,inputs=\"image\",outputs=\"text\",title=\"Covid19 Detector by CHEST X-Ray\",description=\"Please upload your CHEST X-RAY in below input field\").launch()"
   ]
  }
 ],
 "metadata": {
  "kernelspec": {
   "display_name": "Python 3 (ipykernel)",
   "language": "python",
   "name": "python3"
  },
  "language_info": {
   "codemirror_mode": {
    "name": "ipython",
    "version": 3
   },
   "file_extension": ".py",
   "mimetype": "text/x-python",
   "name": "python",
   "nbconvert_exporter": "python",
   "pygments_lexer": "ipython3",
   "version": "3.10.2"
  }
 },
 "nbformat": 4,
 "nbformat_minor": 5
}
